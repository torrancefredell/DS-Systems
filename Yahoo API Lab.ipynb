{
 "cells": [
  {
   "cell_type": "code",
   "execution_count": 485,
   "id": "24195d3b",
   "metadata": {},
   "outputs": [],
   "source": [
    "import json\n",
    "import requests\n",
    "import pandas as pd"
   ]
  },
  {
   "cell_type": "code",
   "execution_count": 486,
   "id": "4ab91f66",
   "metadata": {},
   "outputs": [
    {
     "name": "stdout",
     "output_type": "stream",
     "text": [
      "MSFT\n"
     ]
    },
    {
     "data": {
      "text/plain": [
       "'MSFT'"
      ]
     },
     "execution_count": 486,
     "metadata": {},
     "output_type": "execute_result"
    }
   ],
   "source": [
    "stock = input()\n",
    "stock\n",
    "# this asks the user for a stock/ticker or someting"
   ]
  },
  {
   "cell_type": "code",
   "execution_count": 487,
   "id": "e47096a9",
   "metadata": {},
   "outputs": [],
   "source": [
    "def get_api_response(url, response_type):\n",
    "    try:\n",
    "        response = requests.get(url)\n",
    "        response.raise_for_status()\n",
    "    \n",
    "    except requests.exceptions.HTTPError as errh:\n",
    "        return \"An Http Error occurred: \" + repr(errh)\n",
    "    except requests.exceptions.ConnectionError as errc:\n",
    "        return \"An Error Connecting to the API occurred: \" + repr(errc)\n",
    "    except requests.exceptions.Timeout as errt:\n",
    "        return \"A Timeout Error occurred: \" + repr(errt)\n",
    "    except requests.exceptions.RequestException as err:\n",
    "        return \"An Unknown Error occurred: \" + repr(err)\n",
    "\n",
    "    if response_type == 'json':\n",
    "        result = json.dumps(response.json(), sort_keys=True, indent=4)\n",
    "    else:\n",
    "        result = \"An unhandled error has occurred!\"\n",
    "        \n",
    "    return result"
   ]
  },
  {
   "cell_type": "code",
   "execution_count": 488,
   "id": "46dc1c6d",
   "metadata": {},
   "outputs": [
    {
     "data": {
      "text/plain": [
       "{'symbols': 'MSFT'}"
      ]
     },
     "execution_count": 488,
     "metadata": {},
     "output_type": "execute_result"
    }
   ],
   "source": [
    "# base url for symbol and full name\n",
    "\n",
    "urlQuote = 'https://query1.finance.yahoo.com/v7/finance/quote'\n",
    "querystring = {\"symbols\": stock}\n",
    "querystring"
   ]
  },
  {
   "cell_type": "code",
   "execution_count": 489,
   "id": "156e507e",
   "metadata": {},
   "outputs": [],
   "source": [
    "# when you request something to a website you pass information there\n",
    "# what kind of browser, \n",
    "header_var = {\n",
    "    'User-Agent': 'Modzilla/5.0 (Macintosh; Intel Mac OS X 10_10_1) AppleWebKit/537.36 (KHTML, like Gecko) Chrome/39.0.2171.95 Safari/537.36'\n",
    "}"
   ]
  },
  {
   "cell_type": "code",
   "execution_count": 490,
   "id": "9193c7d7",
   "metadata": {},
   "outputs": [
    {
     "data": {
      "text/plain": [
       "{'quoteResponse': {'result': [{'language': 'en-US',\n",
       "    'region': 'US',\n",
       "    'quoteType': 'EQUITY',\n",
       "    'typeDisp': 'Equity',\n",
       "    'quoteSourceName': 'Nasdaq Real Time Price',\n",
       "    'triggerable': True,\n",
       "    'customPriceAlertConfidence': 'HIGH',\n",
       "    'longName': 'Microsoft Corporation',\n",
       "    'messageBoardId': 'finmb_21835',\n",
       "    'exchangeTimezoneName': 'America/New_York',\n",
       "    'exchangeTimezoneShortName': 'EDT',\n",
       "    'gmtOffSetMilliseconds': -14400000,\n",
       "    'market': 'us_market',\n",
       "    'esgPopulated': False,\n",
       "    'marketState': 'POST',\n",
       "    'exchange': 'NMS',\n",
       "    'currency': 'USD',\n",
       "    'shortName': 'Microsoft Corporation',\n",
       "    'regularMarketChangePercent': 0.15083463,\n",
       "    'regularMarketPrice': 225.75,\n",
       "    'marketCap': 1683618660352,\n",
       "    'forwardPE': 18.970589,\n",
       "    'priceToBook': 10.11742,\n",
       "    'sourceInterval': 15,\n",
       "    'exchangeDataDelayedBy': 0,\n",
       "    'averageAnalystRating': '1.7 - Buy',\n",
       "    'tradeable': False,\n",
       "    'cryptoTradeable': False,\n",
       "    'firstTradeDateMilliseconds': 511108200000,\n",
       "    'priceHint': 2,\n",
       "    'postMarketChangePercent': 0.11074197,\n",
       "    'postMarketTime': 1665618565,\n",
       "    'postMarketPrice': 226.0,\n",
       "    'postMarketChange': 0.25,\n",
       "    'regularMarketChange': 0.33999634,\n",
       "    'regularMarketTime': 1665604804,\n",
       "    'regularMarketDayHigh': 227.86,\n",
       "    'regularMarketDayRange': '223.96 - 227.86',\n",
       "    'regularMarketDayLow': 223.96,\n",
       "    'regularMarketVolume': 21252386,\n",
       "    'regularMarketPreviousClose': 225.41,\n",
       "    'bid': 225.9,\n",
       "    'ask': 226.08,\n",
       "    'bidSize': 8,\n",
       "    'askSize': 8,\n",
       "    'fullExchangeName': 'NasdaqGS',\n",
       "    'financialCurrency': 'USD',\n",
       "    'regularMarketOpen': 225.4,\n",
       "    'averageDailyVolume3Month': 25380984,\n",
       "    'averageDailyVolume10Day': 29447050,\n",
       "    'fiftyTwoWeekLowChange': 1.7899933,\n",
       "    'fiftyTwoWeekLowChangePercent': 0.007992469,\n",
       "    'fiftyTwoWeekRange': '223.96 - 349.67',\n",
       "    'fiftyTwoWeekHighChange': -123.92001,\n",
       "    'fiftyTwoWeekHighChangePercent': -0.3543913,\n",
       "    'fiftyTwoWeekLow': 223.96,\n",
       "    'fiftyTwoWeekHigh': 349.67,\n",
       "    'dividendDate': 1670457600,\n",
       "    'earningsTimestamp': 1658851562,\n",
       "    'earningsTimestampStart': 1666609140,\n",
       "    'earningsTimestampEnd': 1666958400,\n",
       "    'trailingAnnualDividendRate': 2.48,\n",
       "    'trailingPE': 23.393784,\n",
       "    'trailingAnnualDividendYield': 0.011002174,\n",
       "    'epsTrailingTwelveMonths': 9.65,\n",
       "    'epsForward': 11.9,\n",
       "    'epsCurrentYear': 10.09,\n",
       "    'priceEpsCurrentYear': 22.373636,\n",
       "    'sharesOutstanding': 7457889792,\n",
       "    'bookValue': 22.313,\n",
       "    'fiftyDayAverage': 261.0278,\n",
       "    'fiftyDayAverageChange': -35.2778,\n",
       "    'fiftyDayAverageChangePercent': -0.1351496,\n",
       "    'twoHundredDayAverage': 278.7745,\n",
       "    'twoHundredDayAverageChange': -53.024506,\n",
       "    'twoHundredDayAverageChangePercent': -0.19020572,\n",
       "    'displayName': 'Microsoft',\n",
       "    'symbol': 'MSFT'}],\n",
       "  'error': None}}"
      ]
     },
     "execution_count": 490,
     "metadata": {},
     "output_type": "execute_result"
    }
   ],
   "source": [
    "r = requests.request(\"GET\", urlQuote, headers = header_var, params = querystring)\n",
    "# r.content to see it\n",
    "get_api_response(urlQuote, json)\n",
    "stock_json = r.json()\n",
    "stock_json"
   ]
  },
  {
   "cell_type": "code",
   "execution_count": 491,
   "id": "705d9865",
   "metadata": {},
   "outputs": [
    {
     "name": "stdout",
     "output_type": "stream",
     "text": [
      "Name ticker:  MSFT\n"
     ]
    }
   ],
   "source": [
    "# Name ticker \n",
    "\n",
    "name_ticker = stock_json['quoteResponse']['result'][0]['symbol']\n",
    "print(\"Name ticker: \", name_ticker)\n",
    "with open('readme.txt', 'w') as f:\n",
    "    f.write(str(\"Name ticker: \") + str(name_ticker) + \"\\n\")"
   ]
  },
  {
   "cell_type": "code",
   "execution_count": 492,
   "id": "ddff277b",
   "metadata": {},
   "outputs": [
    {
     "name": "stdout",
     "output_type": "stream",
     "text": [
      "Full name:  Microsoft Corporation\n"
     ]
    }
   ],
   "source": [
    "# Full name of the stock\n",
    "\n",
    "full_name = stock_json['quoteResponse']['result'][0]['longName']\n",
    "print(\"Full name: \", full_name)\n",
    "with open('readme.txt', 'a') as f:\n",
    "    f.write(str(\"Full name: \") + str(full_name) + \"\\n\")"
   ]
  },
  {
   "cell_type": "code",
   "execution_count": 493,
   "id": "d8812215",
   "metadata": {},
   "outputs": [
    {
     "data": {
      "text/plain": [
       "{'quoteSummary': {'result': [{'financialData': {'maxAge': 86400,\n",
       "     'currentPrice': {'raw': 225.75, 'fmt': '225.75'},\n",
       "     'targetHighPrice': {'raw': 411.0, 'fmt': '411.00'},\n",
       "     'targetLowPrice': {'raw': 275.0, 'fmt': '275.00'},\n",
       "     'targetMeanPrice': {'raw': 330.44, 'fmt': '330.44'},\n",
       "     'targetMedianPrice': {'raw': 330.0, 'fmt': '330.00'},\n",
       "     'recommendationMean': {'raw': 1.7, 'fmt': '1.70'},\n",
       "     'recommendationKey': 'buy',\n",
       "     'numberOfAnalystOpinions': {'raw': 44, 'fmt': '44', 'longFmt': '44'},\n",
       "     'totalCash': {'raw': 104748998656,\n",
       "      'fmt': '104.75B',\n",
       "      'longFmt': '104,748,998,656'},\n",
       "     'totalCashPerShare': {'raw': 14.045, 'fmt': '14.05'},\n",
       "     'ebitda': {'raw': 97982996480,\n",
       "      'fmt': '97.98B',\n",
       "      'longFmt': '97,982,996,480'},\n",
       "     'totalDebt': {'raw': 78399995904,\n",
       "      'fmt': '78.4B',\n",
       "      'longFmt': '78,399,995,904'},\n",
       "     'quickRatio': {'raw': 1.567, 'fmt': '1.57'},\n",
       "     'currentRatio': {'raw': 1.785, 'fmt': '1.78'},\n",
       "     'totalRevenue': {'raw': 198269992960,\n",
       "      'fmt': '198.27B',\n",
       "      'longFmt': '198,269,992,960'},\n",
       "     'debtToEquity': {'raw': 47.075, 'fmt': '47.08'},\n",
       "     'revenuePerShare': {'raw': 26.45, 'fmt': '26.45'},\n",
       "     'returnOnAssets': {'raw': 0.14919, 'fmt': '14.92%'},\n",
       "     'returnOnEquity': {'raw': 0.47151002, 'fmt': '47.15%'},\n",
       "     'grossProfits': {'raw': 135620000000,\n",
       "      'fmt': '135.62B',\n",
       "      'longFmt': '135,620,000,000'},\n",
       "     'freeCashflow': {'raw': 49479000064,\n",
       "      'fmt': '49.48B',\n",
       "      'longFmt': '49,479,000,064'},\n",
       "     'operatingCashflow': {'raw': 89034997760,\n",
       "      'fmt': '89.03B',\n",
       "      'longFmt': '89,034,997,760'},\n",
       "     'earningsGrowth': {'raw': 0.031, 'fmt': '3.10%'},\n",
       "     'revenueGrowth': {'raw': 0.124, 'fmt': '12.40%'},\n",
       "     'grossMargins': {'raw': 0.68402, 'fmt': '68.40%'},\n",
       "     'ebitdaMargins': {'raw': 0.49418998, 'fmt': '49.42%'},\n",
       "     'operatingMargins': {'raw': 0.42055, 'fmt': '42.05%'},\n",
       "     'profitMargins': {'raw': 0.36686, 'fmt': '36.69%'},\n",
       "     'financialCurrency': 'USD'}}],\n",
       "  'error': None}}"
      ]
     },
     "execution_count": 493,
     "metadata": {},
     "output_type": "execute_result"
    }
   ],
   "source": [
    "# for current price \n",
    "url2 = 'https://query1.finance.yahoo.com/v11/finance/quoteSummary/'\n",
    "query_str = {\"symbol\": stock, \"modules\": \"financialData\"}\n",
    "r = requests.request(\"GET\", url2, headers = header_var, params=query_str)\n",
    "get_api_response(url2, json)\n",
    "stock_json = r.json()\n",
    "stock_json"
   ]
  },
  {
   "cell_type": "code",
   "execution_count": 494,
   "id": "0fd31f5b",
   "metadata": {},
   "outputs": [
    {
     "name": "stdout",
     "output_type": "stream",
     "text": [
      "Current price:  {'raw': 225.75, 'fmt': '225.75'}\n"
     ]
    }
   ],
   "source": [
    "# Current price \n",
    "\n",
    "current_price = stock_json['quoteSummary']['result'][0]['financialData']['currentPrice']\n",
    "print(\"Current price: \", current_price)\n",
    "with open('readme.txt', 'a') as f:\n",
    "    f.write(str(\"Current price: \") + str(current_price) + \"\\n\")"
   ]
  },
  {
   "cell_type": "code",
   "execution_count": 495,
   "id": "528f9c33",
   "metadata": {},
   "outputs": [
    {
     "name": "stdout",
     "output_type": "stream",
     "text": [
      "Target mean price:  {'raw': 330.44, 'fmt': '330.44'}\n"
     ]
    }
   ],
   "source": [
    "# Target mean price\n",
    "\n",
    "target_mean_price = stock_json['quoteSummary']['result'][0]['financialData']['targetMeanPrice']\n",
    "print(\"Target mean price: \", target_mean_price)\n",
    "with open('readme.txt', 'a') as f:\n",
    "    f.write(str(\"Target mean price: \") + str(target_mean_price) + \"\\n\")"
   ]
  },
  {
   "cell_type": "code",
   "execution_count": 496,
   "id": "02c303d3",
   "metadata": {},
   "outputs": [
    {
     "name": "stdout",
     "output_type": "stream",
     "text": [
      "Cash on hand:  {'raw': 49479000064, 'fmt': '49.48B', 'longFmt': '49,479,000,064'}\n"
     ]
    }
   ],
   "source": [
    "# Cash on hand\n",
    "\n",
    "cash_on_hand = stock_json['quoteSummary']['result'][0]['financialData']['freeCashflow']\n",
    "print(\"Cash on hand: \", cash_on_hand)\n",
    "with open('readme.txt', 'a') as f:\n",
    "    f.write(str(\"Cash on hand:\") + str(cash_on_hand) + \"\\n\")"
   ]
  },
  {
   "cell_type": "code",
   "execution_count": 497,
   "id": "f52021a1",
   "metadata": {},
   "outputs": [
    {
     "data": {
      "text/plain": [
       "{'quoteSummary': {'result': [{'defaultKeyStatistics': {'maxAge': 1,\n",
       "     'priceHint': {'raw': 2, 'fmt': '2', 'longFmt': '2'},\n",
       "     'enterpriseValue': {'raw': 1654734454784,\n",
       "      'fmt': '1.65T',\n",
       "      'longFmt': '1,654,734,454,784'},\n",
       "     'forwardPE': {'raw': 18.970589, 'fmt': '18.97'},\n",
       "     'profitMargins': {'raw': 0.36686, 'fmt': '36.69%'},\n",
       "     'floatShares': {'raw': 7451179769,\n",
       "      'fmt': '7.45B',\n",
       "      'longFmt': '7,451,179,769'},\n",
       "     'sharesOutstanding': {'raw': 7457889792,\n",
       "      'fmt': '7.46B',\n",
       "      'longFmt': '7,457,889,792'},\n",
       "     'sharesShort': {'raw': 42967330,\n",
       "      'fmt': '42.97M',\n",
       "      'longFmt': '42,967,330'},\n",
       "     'sharesShortPriorMonth': {'raw': 38084466,\n",
       "      'fmt': '38.08M',\n",
       "      'longFmt': '38,084,466'},\n",
       "     'sharesShortPreviousMonthDate': {'raw': 1660521600, 'fmt': '2022-08-15'},\n",
       "     'dateShortInterest': {'raw': 1663200000, 'fmt': '2022-09-15'},\n",
       "     'sharesPercentSharesOut': {'raw': 0.0058, 'fmt': '0.58%'},\n",
       "     'heldPercentInsiders': {'raw': 0.00079, 'fmt': '0.08%'},\n",
       "     'heldPercentInstitutions': {'raw': 0.71769994, 'fmt': '71.77%'},\n",
       "     'shortRatio': {'raw': 1.95, 'fmt': '1.95'},\n",
       "     'shortPercentOfFloat': {'raw': 0.0058, 'fmt': '0.58%'},\n",
       "     'beta': {'raw': 0.960206, 'fmt': '0.96'},\n",
       "     'morningStarOverallRating': {},\n",
       "     'morningStarRiskRating': {},\n",
       "     'category': None,\n",
       "     'bookValue': {'raw': 22.313, 'fmt': '22.31'},\n",
       "     'priceToBook': {'raw': 10.11742, 'fmt': '10.12'},\n",
       "     'annualReportExpenseRatio': {},\n",
       "     'ytdReturn': {},\n",
       "     'beta3Year': {},\n",
       "     'totalAssets': {},\n",
       "     'yield': {},\n",
       "     'fundFamily': None,\n",
       "     'fundInceptionDate': {},\n",
       "     'legalType': None,\n",
       "     'threeYearAverageReturn': {},\n",
       "     'fiveYearAverageReturn': {},\n",
       "     'priceToSalesTrailing12Months': {},\n",
       "     'lastFiscalYearEnd': {'raw': 1656547200, 'fmt': '2022-06-30'},\n",
       "     'nextFiscalYearEnd': {'raw': 1719705600, 'fmt': '2024-06-30'},\n",
       "     'mostRecentQuarter': {'raw': 1656547200, 'fmt': '2022-06-30'},\n",
       "     'earningsQuarterlyGrowth': {'raw': 0.017, 'fmt': '1.70%'},\n",
       "     'revenueQuarterlyGrowth': {},\n",
       "     'netIncomeToCommon': {'raw': 72737996800,\n",
       "      'fmt': '72.74B',\n",
       "      'longFmt': '72,737,996,800'},\n",
       "     'trailingEps': {'raw': 9.65, 'fmt': '9.65'},\n",
       "     'forwardEps': {'raw': 11.9, 'fmt': '11.9'},\n",
       "     'pegRatio': {'raw': 1.49, 'fmt': '1.49'},\n",
       "     'lastSplitFactor': '2:1',\n",
       "     'lastSplitDate': {'raw': 1045526400, 'fmt': '2003-02-18'},\n",
       "     'enterpriseToRevenue': {'raw': 8.346, 'fmt': '8.35'},\n",
       "     'enterpriseToEbitda': {'raw': 16.888, 'fmt': '16.89'},\n",
       "     '52WeekChange': {},\n",
       "     'SandP52WeekChange': {},\n",
       "     'lastDividendValue': {},\n",
       "     'lastCapGain': {},\n",
       "     'annualHoldingsTurnover': {}}}],\n",
       "  'error': None}}"
      ]
     },
     "execution_count": 497,
     "metadata": {},
     "output_type": "execute_result"
    }
   ],
   "source": [
    "# for profit margins\n",
    "\n",
    "url3 = 'https://query1.finance.yahoo.com/v10/finance/quoteSummary/'\n",
    "query_str = {\"symbol\": stock, \"modules\": \"defaultKeyStatistics\"}\n",
    "r = requests.request(\"GET\", url3, headers = header_var, params=query_str)\n",
    "get_api_response(url3, json)\n",
    "stock_json = r.json()\n",
    "stock_json"
   ]
  },
  {
   "cell_type": "code",
   "execution_count": 498,
   "id": "7c64911b",
   "metadata": {},
   "outputs": [
    {
     "name": "stdout",
     "output_type": "stream",
     "text": [
      "Profit margins:  {'raw': 0.36686, 'fmt': '36.69%'}\n"
     ]
    }
   ],
   "source": [
    "# Profit margins\n",
    "\n",
    "profit_margins = stock_json['quoteSummary']['result'][0]['defaultKeyStatistics']['profitMargins']\n",
    "print(\"Profit margins: \", profit_margins)\n",
    "with open('readme.txt', 'a') as f:\n",
    "    f.write(str(\"Profit margins: \") + str(profit_margins) + \"\\n\")"
   ]
  },
  {
   "cell_type": "code",
   "execution_count": 499,
   "id": "8c9eafed",
   "metadata": {},
   "outputs": [],
   "source": [
    "dictionary = {\n",
    "    \"name ticker\": name_ticker,\n",
    "    \"full name\": full_name,\n",
    "    \"current price\": current_price,\n",
    "    \"target mean price\": target_mean_price,\n",
    "    \"cash on hand\": cash_on_hand,\n",
    "    \"profit margins\": profit_margins\n",
    "}\n",
    "\n",
    "json_object = json.dumps(dictionary, indent=4)\n",
    " \n",
    "# Writing\n",
    "with open(\"readme.txt\", \"w\") as outfile:\n",
    "    outfile.write(json_object)"
   ]
  }
 ],
 "metadata": {
  "kernelspec": {
   "display_name": "Python 3",
   "language": "python",
   "name": "python3"
  },
  "language_info": {
   "codemirror_mode": {
    "name": "ipython",
    "version": 3
   },
   "file_extension": ".py",
   "mimetype": "text/x-python",
   "name": "python",
   "nbconvert_exporter": "python",
   "pygments_lexer": "ipython3",
   "version": "3.8.8"
  }
 },
 "nbformat": 4,
 "nbformat_minor": 5
}
